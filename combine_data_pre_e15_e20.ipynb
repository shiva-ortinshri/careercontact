{
 "cells": [
  {
   "cell_type": "code",
   "execution_count": 1,
   "metadata": {},
   "outputs": [],
   "source": [
    "import pandas as pd\n",
    "from functools import reduce\n",
    "import string\n",
    "import numpy as np\n",
    "\n",
    "responses = pd.DataFrame()\n",
    "for i in range(16,21):\n",
    "    event_df = pd.read_csv('responses/e{}_pre.csv'.format(i))\n",
    "    event_df['event'] = 'e{}'.format(i)\n",
    "    responses = pd.concat([responses, event_df], ignore_index=True)\n",
    "pd.set_option(\"display.max_columns\", None)\n",
    "responses = responses.dropna(how='all', subset=['Network ID']) # drop rows that are not responses\n",
    "responses.columns = responses.columns.str.replace('{', '', regex=False).str.replace('}', '', regex=False) # remove curly braces from typeform responses\n",
    "\n",
    "responses_cleaned = pd.DataFrame()"
   ]
  },
  {
   "cell_type": "markdown",
   "metadata": {},
   "source": [
    "For e15 to e20, there were no timestamps in the CSVs so that was removed as an exclusion criteria to qualify responses. e15 also did not have a pre-event response so only data from e16 onwards was included. "
   ]
  },
  {
   "cell_type": "code",
   "execution_count": 3,
   "metadata": {},
   "outputs": [],
   "source": [
    "responses_cleaned['events'] = responses['event']"
   ]
  },
  {
   "cell_type": "markdown",
   "metadata": {},
   "source": [
    "There are some columns which are asking for the same feature -- need to combine these."
   ]
  },
  {
   "cell_type": "code",
   "execution_count": 4,
   "metadata": {},
   "outputs": [],
   "source": [
    "email_cols = [\"And what's your email address?\"]\n",
    "responses_cleaned['email'] = responses[email_cols].apply(lambda x: ''.join(x.dropna().astype(str)), 1)\n",
    "\n",
    "first_name_cols = ['Great, can we get your *first/given name* (e.g. Jane)?']\n",
    "last_name_cols = ['And your last *name/surname*?']\n",
    "responses_cleaned['first_name'] = responses[first_name_cols].apply(lambda x: ''.join(x.dropna().astype(str)), 1)\n",
    "responses_cleaned['last_name'] = responses[last_name_cols].apply(lambda x: ''.join(x.dropna().astype(str)), 1)\n",
    "\n",
    "school_cols = ['Thanks  field:ef34b985c51e4131! Which *school/Institution* are you from?','Thanks field:ef34b985c51e4131! Which *school/institution* are you from?']\n",
    "responses_cleaned['school'] = responses[school_cols].apply(lambda x: ''.join(x.dropna().astype(str)), 1)\n",
    "\n",
    "join_mailing_cols = ['Would you like to join our mailing list to be informed of future events?']\n",
    "responses_cleaned['join_mailing'] = responses[join_mailing_cols].apply(lambda x: ''.join(x.dropna().astype(str)), 1)\n",
    "\n",
    "qs_cols = ['Any *questions* about the event/ for the speakers?']\n",
    "responses_cleaned['questions'] = responses[qs_cols].apply(lambda x: ''.join(x.dropna().astype(str)), 1)\n",
    "\n",
    "knowledge_cols = [colname for colname in responses.columns if colname.startswith('Select the option that best describes your knowledge')]\n",
    "interest_cols = [colname for colname in responses.columns if colname.startswith('Select the option that best describes your interest')]\n",
    "responses_cleaned['knowledge'] = responses[knowledge_cols].apply(lambda x: ''.join(x.dropna().astype(str)), 1)\n",
    "responses_cleaned['interest'] = responses[interest_cols].apply(lambda x: ''.join(x.dropna().astype(str)), 1)\n",
    "\n",
    "internship_cols = ['How difficult has it been for you to find an internship or a job?']\n",
    "responses_cleaned['internship'] = responses[internship_cols].apply(lambda x: ''.join(x.dropna().astype(str)), 1)\n",
    "\n",
    "next_cols = ['Which *sectors or careers* do you want to hear from next?','Which *sectors* or *careers* do you want to hear from next?']\n",
    "responses_cleaned['next'] = responses[next_cols].apply(lambda x: ''.join(x.dropna().astype(str)), 1)"
   ]
  },
  {
   "cell_type": "markdown",
   "metadata": {},
   "source": [
    "Some columns are specific to particular events:"
   ]
  },
  {
   "cell_type": "code",
   "execution_count": 5,
   "metadata": {},
   "outputs": [],
   "source": [
    "responses_cleaned['e16_interest_why_STEM'] = responses['What are some reasons as to why you are field:9aaaeeebe70858c4?'].astype(str)\n",
    "responses_cleaned['e20_interest_why_SW'] = responses['What are some reasons as to why field:9aaaeeebe70858c4?'].astype(str)\n",
    "responses_cleaned = responses_cleaned.applymap(lambda s:s.lower() if type(s) == str else s) #lowercase all string cells"
   ]
  },
  {
   "cell_type": "markdown",
   "metadata": {},
   "source": [
    "We can look through some of the columns that we aren't sure about and drop them accordingly."
   ]
  },
  {
   "cell_type": "markdown",
   "metadata": {},
   "source": [
    "Can drop (i.e. just ignore and not copy them over to responses_cleaned) those columns since they aren't informative for our purposes. I'm also going to drop the column asking for age since it was only done for 1 survey.\n",
    "\n",
    "\n",
    "Also, for future reference! Response validation is important: (i.e. in the survey, should select it such that we only allow a number to be chosen as a response) \n",
    "\n",
    "For e10, 11, 12, 14, students were also asked to pick 3 skills that they wanted to learn. We save the columns for each skill as booleans. We'll do the same for all the other fields as well regarding how they found out about CC."
   ]
  },
  {
   "cell_type": "code",
   "execution_count": 6,
   "metadata": {},
   "outputs": [],
   "source": [
    "responses_cleaned['skills_marketing'] = responses['Digital Marketing'].notnull()\n",
    "responses_cleaned['skills_fullstack'] = responses['Full Stack Development (Computer Programming)'].notnull()\n",
    "responses_cleaned['skills_ux'] = responses['UX Design'].notnull()\n",
    "responses_cleaned['skills_data'] = responses['Data Analytics'].notnull()\n",
    "responses_cleaned['skills_pm'] = responses['Product Management'].notnull()\n",
    "responses_cleaned['skills_acc'] = responses['Accounting'].notnull()\n",
    "responses_cleaned['skills_proc'] = responses['Procurement/ Logistics/ Supply Chain'].notnull()\n",
    "responses_cleaned['skills_pr'] = responses['Public Relations'].notnull()\n",
    "responses_cleaned['skills_mr'] = responses['Market/ User Research'].notnull()"
   ]
  },
  {
   "cell_type": "code",
   "execution_count": 7,
   "metadata": {},
   "outputs": [],
   "source": [
    "responses_cleaned['how_event_teacher'] = responses['My teacher'].notnull()\n",
    "responses_cleaned['how_event_LI'] = responses['Linkedin'].notnull()\n",
    "responses_cleaned['how_event_insta'] = responses['Instagram (@careercontact)'].notnull()\n",
    "responses_cleaned['how_event_school'] = responses[\"My schools' Education and Career Guidance Unit\"].notnull()\n",
    "responses_cleaned['how_event_friends'] = responses['Friends/ Peers'].notnull()\n",
    "responses_cleaned['how_event_mailing'] = responses['CareerContact Mailing List'].notnull()\n",
    "responses_cleaned['how_event_twitter'] = responses['Twitter (@careercontactcc)'].notnull()\n",
    "responses_cleaned['how_event_fb'] = responses['Facebook (facebook.com/careercontact.org)'].notnull()\n",
    "responses_cleaned['how_event_AYO'] = responses['AYO Social Media Channels'].notnull()\n",
    "responses_cleaned['how_event_SIC'] = responses['SIC Social Media Channels'].notnull()"
   ]
  },
  {
   "cell_type": "markdown",
   "metadata": {},
   "source": [
    "For several of the surveys we also asked about how much students were knowledgeable and interested in the careers that they're signing up for."
   ]
  },
  {
   "cell_type": "code",
   "execution_count": 8,
   "metadata": {},
   "outputs": [],
   "source": [
    "def knowledge_categories(df_string):\n",
    "    if df_string.startswith('i know little or nothing about'):\n",
    "        return 1\n",
    "    elif 'certainty' in df_string:\n",
    "        return 2\n",
    "    elif df_string.startswith('i am able to articulate') and '& more' not in df_string and '& beyond' not in df_string:\n",
    "        return 3\n",
    "    elif df_string.startswith('i am able to articulate') and ('& more, e.g. challenges and trends' in df_string or '& beyond' in df_string):\n",
    "        return 4\n",
    "\n",
    "def interest_categories(df_string):\n",
    "    if 'quite set on' in df_string:\n",
    "        return 1\n",
    "    elif 'considering other' in df_string:\n",
    "        return 2\n",
    "    elif 'undecided' in df_string:\n",
    "        return 3\n",
    "\n",
    "responses_cleaned['knowledge_coded'] = responses_cleaned.knowledge.apply(knowledge_categories)\n",
    "responses_cleaned['interest_coded'] = responses_cleaned.interest.apply(interest_categories)"
   ]
  },
  {
   "cell_type": "markdown",
   "metadata": {},
   "source": [
    "That covers all the columns in the original dataframe, we can export it and start our analysis now!"
   ]
  },
  {
   "cell_type": "code",
   "execution_count": 10,
   "metadata": {},
   "outputs": [],
   "source": [
    "pd.to_pickle(responses_cleaned, 'data/preevent_responses_2.pandas')"
   ]
  },
  {
   "cell_type": "code",
   "execution_count": null,
   "metadata": {},
   "outputs": [],
   "source": []
  }
 ],
 "metadata": {
  "kernelspec": {
   "display_name": "Python 3",
   "language": "python",
   "name": "python3"
  },
  "language_info": {
   "codemirror_mode": {
    "name": "ipython",
    "version": 3
   },
   "file_extension": ".py",
   "mimetype": "text/x-python",
   "name": "python",
   "nbconvert_exporter": "python",
   "pygments_lexer": "ipython3",
   "version": "3.8.5"
  },
  "metadata": {
   "interpreter": {
    "hash": "aee8b7b246df8f9039afb4144a1f6fd8d2ca17a180786b69acc140d282b71a49"
   }
  }
 },
 "nbformat": 4,
 "nbformat_minor": 2
}
